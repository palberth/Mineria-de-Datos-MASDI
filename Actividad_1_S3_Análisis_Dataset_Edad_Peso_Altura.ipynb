{
  "nbformat": 4,
  "nbformat_minor": 0,
  "metadata": {
    "colab": {
      "provenance": [],
      "include_colab_link": true
    },
    "kernelspec": {
      "name": "python3",
      "display_name": "Python 3"
    },
    "language_info": {
      "name": "python"
    }
  },
  "cells": [
    {
      "cell_type": "markdown",
      "metadata": {
        "id": "view-in-github",
        "colab_type": "text"
      },
      "source": [
        "<a href=\"https://colab.research.google.com/github/palberth/Mineria-de-Datos-MASDI/blob/main/Actividad_1_S3_An%C3%A1lisis_Dataset_Edad_Peso_Altura.ipynb\" target=\"_parent\"><img src=\"https://colab.research.google.com/assets/colab-badge.svg\" alt=\"Open In Colab\"/></a>"
      ]
    },
    {
      "cell_type": "code",
      "execution_count": null,
      "metadata": {
        "id": "X1JPSXhiVQdG"
      },
      "outputs": [],
      "source": []
    },
    {
      "cell_type": "markdown",
      "source": [
        "# **Trabajo presentado por Albert Páez Lobo y Katherin Torrado Claro**"
      ],
      "metadata": {
        "id": "iSAv9o9gVzRU"
      }
    },
    {
      "cell_type": "markdown",
      "source": [
        "#Primero las bibliotecas"
      ],
      "metadata": {
        "id": "5niX0TZQWDJI"
      }
    },
    {
      "cell_type": "code",
      "source": [
        "import numpy as np\n",
        "import pandas as pd\n",
        "import matplotlib.pyplot as plt"
      ],
      "metadata": {
        "id": "CLWvv6hyWR2E"
      },
      "execution_count": null,
      "outputs": []
    },
    {
      "cell_type": "code",
      "source": [
        "# verificar si estamos en google colab\n",
        "try:\n",
        "    import google.colab\n",
        "    IN_COLAB = True\n",
        "except:\n",
        "    IN_COLAB = False"
      ],
      "metadata": {
        "id": "PxzYPlQxXHe5"
      },
      "execution_count": null,
      "outputs": []
    },
    {
      "cell_type": "code",
      "source": [
        "IN_COLAB"
      ],
      "metadata": {
        "colab": {
          "base_uri": "https://localhost:8080/"
        },
        "id": "60wFQm5PXK9J",
        "outputId": "676798b3-a25d-4b5d-a7ea-9d06a17026cd"
      },
      "execution_count": null,
      "outputs": [
        {
          "output_type": "execute_result",
          "data": {
            "text/plain": [
              "True"
            ]
          },
          "metadata": {},
          "execution_count": 65
        }
      ]
    },
    {
      "cell_type": "code",
      "source": [
        "import os\n",
        "# Obtener el directorio raíz del proyecto\n",
        "dir_root = os.path.dirname(os.getcwd())\n",
        "dir_root"
      ],
      "metadata": {
        "colab": {
          "base_uri": "https://localhost:8080/",
          "height": 35
        },
        "id": "yvIIQmj1XPs3",
        "outputId": "72618075-d780-4750-8128-f267ca854a55"
      },
      "execution_count": null,
      "outputs": [
        {
          "output_type": "execute_result",
          "data": {
            "text/plain": [
              "'/'"
            ],
            "application/vnd.google.colaboratory.intrinsic+json": {
              "type": "string"
            }
          },
          "metadata": {},
          "execution_count": 66
        }
      ]
    },
    {
      "cell_type": "code",
      "source": [
        "import pandas as pd\n",
        "\n",
        "# Cargar el archivo CSV y mostrar las primeras filas para revisar su estructura\n",
        "\n",
        "# Intentar cargar el archivo con una codificación alternativa (ISO-8859-1)\n",
        "df = pd.read_csv(\"/content/Base_Datos.csv\", on_bad_lines='skip', encoding='latin-1')\n",
        "\n",
        "# Mostrar las primeras filas y la información general del dataset\n",
        "df.head(), df.info()\n"
      ],
      "metadata": {
        "colab": {
          "base_uri": "https://localhost:8080/"
        },
        "id": "OvM14JyRWYZO",
        "outputId": "4190a2b1-6f70-4047-fc46-20c20c0fbb9b"
      },
      "execution_count": null,
      "outputs": [
        {
          "output_type": "stream",
          "name": "stdout",
          "text": [
            "<class 'pandas.core.frame.DataFrame'>\n",
            "RangeIndex: 49 entries, 0 to 48\n",
            "Data columns (total 5 columns):\n",
            " #   Column      Non-Null Count  Dtype  \n",
            "---  ------      --------------  -----  \n",
            " 0   Persona     49 non-null     int64  \n",
            " 1   Edad(Años)  49 non-null     int64  \n",
            " 2   Peso(Kg)    49 non-null     float64\n",
            " 3   Altura(cm)  49 non-null     float64\n",
            " 4   Sexo        49 non-null     object \n",
            "dtypes: float64(2), int64(2), object(1)\n",
            "memory usage: 2.0+ KB\n"
          ]
        },
        {
          "output_type": "execute_result",
          "data": {
            "text/plain": [
              "(   Persona  Edad(Años)  Peso(Kg)  Altura(cm) Sexo\n",
              " 0        1          62      57.8       157.2    M\n",
              " 1        2          53      51.0       159.0    M\n",
              " 2        3          41      51.0       157.0    F\n",
              " 3        4          49      63.0       172.0    M\n",
              " 4        5          49      47.5       157.6    F,\n",
              " None)"
            ]
          },
          "metadata": {},
          "execution_count": 67
        }
      ]
    },
    {
      "cell_type": "markdown",
      "source": [
        "## **Analisis Inicial**\n",
        "\n",
        "\n",
        "---\n",
        "\n",
        "\n",
        "El archivo contiene 49 registros con las siguientes columnas:\n",
        "\n",
        "* Persona: Identificador único.\n",
        "* Edad(Años): Edad en años.\n",
        "* Peso(Kg): Peso en kilogramos.\n",
        "* Altura(cm): Altura en centímetros.\n",
        "* Sexo: Género (M para masculino, F para femenino).\n",
        "\n",
        "Se generan los gráficos para el análisis de correlaciones"
      ],
      "metadata": {
        "id": "IT36bkljYclV"
      }
    },
    {
      "cell_type": "code",
      "source": [
        "import matplotlib.pyplot as plt\n",
        "import seaborn as sns\n",
        "\n",
        "# Configurar el estilo de los gráficos\n",
        "sns.set(style=\"whitegrid\")\n",
        "\n",
        "# Crear la figura y los ejes para los gráficos de dispersión\n",
        "fig, axes = plt.subplots(1, 3, figsize=(18, 5))\n",
        "\n",
        "# Gráfico de dispersión: Edad vs. Peso\n",
        "sns.scatterplot(x=df[\"Edad(Años)\"], y=df[\"Peso(Kg)\"], ax=axes[0])\n",
        "axes[0].set_title(\"Edad vs. Peso\")\n",
        "axes[0].set_xlabel(\"Edad (Años)\")\n",
        "axes[0].set_ylabel(\"Peso (Kg)\")\n",
        "\n",
        "# Gráfico de dispersión: Edad vs. Altura\n",
        "sns.scatterplot(x=df[\"Edad(Años)\"], y=df[\"Altura(cm)\"], ax=axes[1])\n",
        "axes[1].set_title(\"Edad vs. Altura\")\n",
        "axes[1].set_xlabel(\"Edad (Años)\")\n",
        "axes[1].set_ylabel(\"Altura (cm)\")\n",
        "\n",
        "# Gráfico de dispersión: Peso vs. Altura\n",
        "sns.scatterplot(x=df[\"Peso(Kg)\"], y=df[\"Altura(cm)\"], ax=axes[2])\n",
        "axes[2].set_title(\"Peso vs. Altura\")\n",
        "axes[2].set_xlabel(\"Peso (Kg)\")\n",
        "axes[2].set_ylabel(\"Altura (cm)\")\n",
        "\n",
        "# Guardar los gráficos\n",
        "scatter_plot_path = \"/content/scatter_plots.png\"\n",
        "plt.savefig(scatter_plot_path)\n",
        "plt.show()\n",
        "\n",
        "# Calcular correlaciones entre variables\n",
        "correlations = df[[\"Edad(Años)\", \"Peso(Kg)\", \"Altura(cm)\"]].corr()\n",
        "correlations\n"
      ],
      "metadata": {
        "colab": {
          "base_uri": "https://localhost:8080/",
          "height": 622
        },
        "id": "dEhyJPQEavzl",
        "outputId": "0e7d823e-2840-40e8-fd17-2383ff27f1ba"
      },
      "execution_count": null,
      "outputs": [
        {
          "output_type": "display_data",
          "data": {
            "text/plain": [
              "<Figure size 1800x500 with 3 Axes>"
            ],
            "image/png": "[encoded data removed]"
          },
          "metadata": {}
        },
        {
          "output_type": "execute_result",
          "data": {
            "text/plain": [
              "            Edad(Años)  Peso(Kg)  Altura(cm)\n",
              "Edad(Años)    1.000000  0.047952   -0.182663\n",
              "Peso(Kg)      0.047952  1.000000    0.706547\n",
              "Altura(cm)   -0.182663  0.706547    1.000000"
            ],
            "text/html": [
              "\n",
              "  <div id=\"df-7449771a-5a56-4a1f-bc98-c28de7ec1671\" class=\"colab-df-container\">\n",
              "    <div>\n",
              "<style scoped>\n",
              "    .dataframe tbody tr th:only-of-type {\n",
              "        vertical-align: middle;\n",
              "    }\n",
              "\n",
              "    .dataframe tbody tr th {\n",
              "        vertical-align: top;\n",
              "    }\n",
              "\n",
              "    .dataframe thead th {\n",
              "        text-align: right;\n",
              "    }\n",
              "</style>\n",
              "<table border=\"1\" class=\"dataframe\">\n",
              "  <thead>\n",
              "    <tr style=\"text-align: right;\">\n",
              "      <th></th>\n",
              "      <th>Edad(Años)</th>\n",
              "      <th>Peso(Kg)</th>\n",
              "      <th>Altura(cm)</th>\n",
              "    </tr>\n",
              "  </thead>\n",
              "  <tbody>\n",
              "    <tr>\n",
              "      <th>Edad(Años)</th>\n",
              "      <td>1.000000</td>\n",
              "      <td>0.047952</td>\n",
              "      <td>-0.182663</td>\n",
              "    </tr>\n",
              "    <tr>\n",
              "      <th>Peso(Kg)</th>\n",
              "      <td>0.047952</td>\n",
              "      <td>1.000000</td>\n",
              "      <td>0.706547</td>\n",
              "    </tr>\n",
              "    <tr>\n",
              "      <th>Altura(cm)</th>\n",
              "      <td>-0.182663</td>\n",
              "      <td>0.706547</td>\n",
              "      <td>1.000000</td>\n",
              "    </tr>\n",
              "  </tbody>\n",
              "</table>\n",
              "</div>\n",
              "    <div class=\"colab-df-buttons\">\n",
              "\n",
              "  <div class=\"colab-df-container\">\n",
              "    <button class=\"colab-df-convert\" onclick=\"convertToInteractive('df-7449771a-5a56-4a1f-bc98-c28de7ec1671')\"\n",
              "            title=\"Convert this dataframe to an interactive table.\"\n",
              "            style=\"display:none;\">\n",
              "\n",
              "  <svg xmlns=\"http://www.w3.org/2000/svg\" height=\"24px\" viewBox=\"0 -960 960 960\">\n",
              "    <path d=\"M120-120v-720h720v720H120Zm60-500h600v-160H180v160Zm220 220h160v-160H400v160Zm0 220h160v-160H400v160ZM180-400h160v-160H180v160Zm440 0h160v-160H620v160ZM180-180h160v-160H180v160Zm440 0h160v-160H620v160Z\"/>\n",
              "  </svg>\n",
              "    </button>\n",
              "\n",
              "  <style>\n",
              "    .colab-df-container {\n",
              "      display:flex;\n",
              "      gap: 12px;\n",
              "    }\n",
              "\n",
              "    .colab-df-convert {\n",
              "      background-color: #E8F0FE;\n",
              "      border: none;\n",
              "      border-radius: 50%;\n",
              "      cursor: pointer;\n",
              "      display: none;\n",
              "      fill: #1967D2;\n",
              "      height: 32px;\n",
              "      padding: 0 0 0 0;\n",
              "      width: 32px;\n",
              "    }\n",
              "\n",
              "    .colab-df-convert:hover {\n",
              "      background-color: #E2EBFA;\n",
              "      box-shadow: 0px 1px 2px rgba(60, 64, 67, 0.3), 0px 1px 3px 1px rgba(60, 64, 67, 0.15);\n",
              "      fill: #174EA6;\n",
              "    }\n",
              "\n",
              "    .colab-df-buttons div {\n",
              "      margin-bottom: 4px;\n",
              "    }\n",
              "\n",
              "    [theme=dark] .colab-df-convert {\n",
              "      background-color: #3B4455;\n",
              "      fill: #D2E3FC;\n",
              "    }\n",
              "\n",
              "    [theme=dark] .colab-df-convert:hover {\n",
              "      background-color: #434B5C;\n",
              "      box-shadow: 0px 1px 3px 1px rgba(0, 0, 0, 0.15);\n",
              "      filter: drop-shadow(0px 1px 2px rgba(0, 0, 0, 0.3));\n",
              "      fill: #FFFFFF;\n",
              "    }\n",
              "  </style>\n",
              "\n",
              "    <script>\n",
              "      const buttonEl =\n",
              "        document.querySelector('#df-7449771a-5a56-4a1f-bc98-c28de7ec1671 button.colab-df-convert');\n",
              "      buttonEl.style.display =\n",
              "        google.colab.kernel.accessAllowed ? 'block' : 'none';\n",
              "\n",
              "      async function convertToInteractive(key) {\n",
              "        const element = document.querySelector('#df-7449771a-5a56-4a1f-bc98-c28de7ec1671');\n",
              "        const dataTable =\n",
              "          await google.colab.kernel.invokeFunction('convertToInteractive',\n",
              "                                                    [key], {});\n",
              "        if (!dataTable) return;\n",
              "\n",
              "        const docLinkHtml = 'Like what you see? Visit the ' +\n",
              "          '<a target=\"_blank\" href=https://colab.research.google.com/notebooks/data_table.ipynb>data table notebook</a>'\n",
              "          + ' to learn more about interactive tables.';\n",
              "        element.innerHTML = '';\n",
              "        dataTable['output_type'] = 'display_data';\n",
              "        await google.colab.output.renderOutput(dataTable, element);\n",
              "        const docLink = document.createElement('div');\n",
              "        docLink.innerHTML = docLinkHtml;\n",
              "        element.appendChild(docLink);\n",
              "      }\n",
              "    </script>\n",
              "  </div>\n",
              "\n",
              "\n",
              "<div id=\"df-510371a2-857b-4fe6-b462-b1dd5a0fcea2\">\n",
              "  <button class=\"colab-df-quickchart\" onclick=\"quickchart('df-510371a2-857b-4fe6-b462-b1dd5a0fcea2')\"\n",
              "            title=\"Suggest charts\"\n",
              "            style=\"display:none;\">\n",
              "\n",
              "<svg xmlns=\"http://www.w3.org/2000/svg\" height=\"24px\"viewBox=\"0 0 24 24\"\n",
              "     width=\"24px\">\n",
              "    <g>\n",
              "        <path d=\"M19 3H5c-1.1 0-2 .9-2 2v14c0 1.1.9 2 2 2h14c1.1 0 2-.9 2-2V5c0-1.1-.9-2-2-2zM9 17H7v-7h2v7zm4 0h-2V7h2v10zm4 0h-2v-4h2v4z\"/>\n",
              "    </g>\n",
              "</svg>\n",
              "  </button>\n",
              "\n",
              "<style>\n",
              "  .colab-df-quickchart {\n",
              "      --bg-color: #E8F0FE;\n",
              "      --fill-color: #1967D2;\n",
              "      --hover-bg-color: #E2EBFA;\n",
              "      --hover-fill-color: #174EA6;\n",
              "      --disabled-fill-color: #AAA;\n",
              "      --disabled-bg-color: #DDD;\n",
              "  }\n",
              "\n",
              "  [theme=dark] .colab-df-quickchart {\n",
              "      --bg-color: #3B4455;\n",
              "      --fill-color: #D2E3FC;\n",
              "      --hover-bg-color: #434B5C;\n",
              "      --hover-fill-color: #FFFFFF;\n",
              "      --disabled-bg-color: #3B4455;\n",
              "      --disabled-fill-color: #666;\n",
              "  }\n",
              "\n",
              "  .colab-df-quickchart {\n",
              "    background-color: var(--bg-color);\n",
              "    border: none;\n",
              "    border-radius: 50%;\n",
              "    cursor: pointer;\n",
              "    display: none;\n",
              "    fill: var(--fill-color);\n",
              "    height: 32px;\n",
              "    padding: 0;\n",
              "    width: 32px;\n",
              "  }\n",
              "\n",
              "  .colab-df-quickchart:hover {\n",
              "    background-color: var(--hover-bg-color);\n",
              "    box-shadow: 0 1px 2px rgba(60, 64, 67, 0.3), 0 1px 3px 1px rgba(60, 64, 67, 0.15);\n",
              "    fill: var(--button-hover-fill-color);\n",
              "  }\n",
              "\n",
              "  .colab-df-quickchart-complete:disabled,\n",
              "  .colab-df-quickchart-complete:disabled:hover {\n",
              "    background-color: var(--disabled-bg-color);\n",
              "    fill: var(--disabled-fill-color);\n",
              "    box-shadow: none;\n",
              "  }\n",
              "\n",
              "  .colab-df-spinner {\n",
              "    border: 2px solid var(--fill-color);\n",
              "    border-color: transparent;\n",
              "    border-bottom-color: var(--fill-color);\n",
              "    animation:\n",
              "      spin 1s steps(1) infinite;\n",
              "  }\n",
              "\n",
              "  @keyframes spin {\n",
              "    0% {\n",
              "      border-color: transparent;\n",
              "      border-bottom-color: var(--fill-color);\n",
              "      border-left-color: var(--fill-color);\n",
              "    }\n",
              "    20% {\n",
              "      border-color: transparent;\n",
              "      border-left-color: var(--fill-color);\n",
              "      border-top-color: var(--fill-color);\n",
              "    }\n",
              "    30% {\n",
              "      border-color: transparent;\n",
              "      border-left-color: var(--fill-color);\n",
              "      border-top-color: var(--fill-color);\n",
              "      border-right-color: var(--fill-color);\n",
              "    }\n",
              "    40% {\n",
              "      border-color: transparent;\n",
              "      border-right-color: var(--fill-color);\n",
              "      border-top-color: var(--fill-color);\n",
              "    }\n",
              "    60% {\n",
              "      border-color: transparent;\n",
              "      border-right-color: var(--fill-color);\n",
              "    }\n",
              "    80% {\n",
              "      border-color: transparent;\n",
              "      border-right-color: var(--fill-color);\n",
              "      border-bottom-color: var(--fill-color);\n",
              "    }\n",
              "    90% {\n",
              "      border-color: transparent;\n",
              "      border-bottom-color: var(--fill-color);\n",
              "    }\n",
              "  }\n",
              "</style>\n",
              "\n",
              "  <script>\n",
              "    async function quickchart(key) {\n",
              "      const quickchartButtonEl =\n",
              "        document.querySelector('#' + key + ' button');\n",
              "      quickchartButtonEl.disabled = true;  // To prevent multiple clicks.\n",
              "      quickchartButtonEl.classList.add('colab-df-spinner');\n",
              "      try {\n",
              "        const charts = await google.colab.kernel.invokeFunction(\n",
              "            'suggestCharts', [key], {});\n",
              "      } catch (error) {\n",
              "        console.error('Error during call to suggestCharts:', error);\n",
              "      }\n",
              "      quickchartButtonEl.classList.remove('colab-df-spinner');\n",
              "      quickchartButtonEl.classList.add('colab-df-quickchart-complete');\n",
              "    }\n",
              "    (() => {\n",
              "      let quickchartButtonEl =\n",
              "        document.querySelector('#df-510371a2-857b-4fe6-b462-b1dd5a0fcea2 button');\n",
              "      quickchartButtonEl.style.display =\n",
              "        google.colab.kernel.accessAllowed ? 'block' : 'none';\n",
              "    })();\n",
              "  </script>\n",
              "</div>\n",
              "\n",
              "  <div id=\"id_28e3ecb0-cb64-4ce9-80d1-caf76e861fc2\">\n",
              "    <style>\n",
              "      .colab-df-generate {\n",
              "        background-color: #E8F0FE;\n",
              "        border: none;\n",
              "        border-radius: 50%;\n",
              "        cursor: pointer;\n",
              "        display: none;\n",
              "        fill: #1967D2;\n",
              "        height: 32px;\n",
              "        padding: 0 0 0 0;\n",
              "        width: 32px;\n",
              "      }\n",
              "\n",
              "      .colab-df-generate:hover {\n",
              "        background-color: #E2EBFA;\n",
              "        box-shadow: 0px 1px 2px rgba(60, 64, 67, 0.3), 0px 1px 3px 1px rgba(60, 64, 67, 0.15);\n",
              "        fill: #174EA6;\n",
              "      }\n",
              "\n",
              "      [theme=dark] .colab-df-generate {\n",
              "        background-color: #3B4455;\n",
              "        fill: #D2E3FC;\n",
              "      }\n",
              "\n",
              "      [theme=dark] .colab-df-generate:hover {\n",
              "        background-color: #434B5C;\n",
              "        box-shadow: 0px 1px 3px 1px rgba(0, 0, 0, 0.15);\n",
              "        filter: drop-shadow(0px 1px 2px rgba(0, 0, 0, 0.3));\n",
              "        fill: #FFFFFF;\n",
              "      }\n",
              "    </style>\n",
              "    <button class=\"colab-df-generate\" onclick=\"generateWithVariable('correlations')\"\n",
              "            title=\"Generate code using this dataframe.\"\n",
              "            style=\"display:none;\">\n",
              "\n",
              "  <svg xmlns=\"http://www.w3.org/2000/svg\" height=\"24px\"viewBox=\"0 0 24 24\"\n",
              "       width=\"24px\">\n",
              "    <path d=\"M7,19H8.4L18.45,9,17,7.55,7,17.6ZM5,21V16.75L18.45,3.32a2,2,0,0,1,2.83,0l1.4,1.43a1.91,1.91,0,0,1,.58,1.4,1.91,1.91,0,0,1-.58,1.4L9.25,21ZM18.45,9,17,7.55Zm-12,3A5.31,5.31,0,0,0,4.9,8.1,5.31,5.31,0,0,0,1,6.5,5.31,5.31,0,0,0,4.9,4.9,5.31,5.31,0,0,0,6.5,1,5.31,5.31,0,0,0,8.1,4.9,5.31,5.31,0,0,0,12,6.5,5.46,5.46,0,0,0,6.5,12Z\"/>\n",
              "  </svg>\n",
              "    </button>\n",
              "    <script>\n",
              "      (() => {\n",
              "      const buttonEl =\n",
              "        document.querySelector('#id_28e3ecb0-cb64-4ce9-80d1-caf76e861fc2 button.colab-df-generate');\n",
              "      buttonEl.style.display =\n",
              "        google.colab.kernel.accessAllowed ? 'block' : 'none';\n",
              "\n",
              "      buttonEl.onclick = () => {\n",
              "        google.colab.notebook.generateWithVariable('correlations');\n",
              "      }\n",
              "      })();\n",
              "    </script>\n",
              "  </div>\n",
              "\n",
              "    </div>\n",
              "  </div>\n"
            ],
            "application/vnd.google.colaboratory.intrinsic+json": {
              "type": "dataframe",
              "variable_name": "correlations",
              "summary": "{\n  \"name\": \"correlations\",\n  \"rows\": 3,\n  \"fields\": [\n    {\n      \"column\": \"Edad(A\\u00f1os)\",\n      \"properties\": {\n        \"dtype\": \"number\",\n        \"std\": 0.6269332171408691,\n        \"min\": -0.18266328213245728,\n        \"max\": 1.0,\n        \"num_unique_values\": 3,\n        \"samples\": [\n          1.0,\n          0.04795178448013803,\n          -0.18266328213245728\n        ],\n        \"semantic_type\": \"\",\n        \"description\": \"\"\n      }\n    },\n    {\n      \"column\": \"Peso(Kg)\",\n      \"properties\": {\n        \"dtype\": \"number\",\n        \"std\": 0.4875548395874202,\n        \"min\": 0.04795178448013803,\n        \"max\": 1.0,\n        \"num_unique_values\": 3,\n        \"samples\": [\n          0.04795178448013803,\n          1.0,\n          0.7065472791259392\n        ],\n        \"semantic_type\": \"\",\n        \"description\": \"\"\n      }\n    },\n    {\n      \"column\": \"Altura(cm)\",\n      \"properties\": {\n        \"dtype\": \"number\",\n        \"std\": 0.6158330889326775,\n        \"min\": -0.18266328213245728,\n        \"max\": 1.0,\n        \"num_unique_values\": 3,\n        \"samples\": [\n          -0.18266328213245728,\n          0.7065472791259392,\n          1.0\n        ],\n        \"semantic_type\": \"\",\n        \"description\": \"\"\n      }\n    }\n  ]\n}"
            }
          },
          "metadata": {},
          "execution_count": 68
        }
      ]
    },
    {
      "cell_type": "markdown",
      "source": [
        "## **Análisis de correlaciones:**\n",
        "\n",
        "\n",
        "---\n",
        "\n",
        "\n",
        "* **Edad vs. Peso:** Correlación muy baja (0.0479), lo que indica que no hay una relación significativa entre estas variables.\n",
        "\n",
        "* **Edad vs. Altura:** Correlación negativa moderada (-0.1827), sugiriendo que la altura tiende a disminuir levemente con la edad, pero no de manera fuerte.\n",
        "\n",
        "* **Peso vs. Altura:** Correlación alta (0.7065), indicando que a mayor altura, mayor peso."
      ],
      "metadata": {
        "id": "-1ljDXbWbCDY"
      }
    },
    {
      "cell_type": "markdown",
      "source": [
        "En la gráfica de dispersión Edad vs. Peso, no se observa una tendencia clara. Los puntos están dispersos sin seguir un patrón específico, lo que sugiere que no hay una relación lineal entre la edad y el peso en esta muestra. Esto podría indicar que otros factores, como la dieta, el estilo de vida o la genética, tienen un mayor impacto en el peso que la edad.\n",
        "\n",
        "Aspectos a tener en cuenta:\n",
        "\n",
        "La falta de una tendencia clara en esta gráfica sugiere que la edad no es un predictor confiable del peso en esta población. Esto refuerza la idea de que el peso está influenciado por múltiples factores, y no solo por la edad."
      ],
      "metadata": {
        "id": "Ku78zNR8fz3u"
      }
    },
    {
      "cell_type": "markdown",
      "source": [
        "## **Gráfico Circular Distribución de Sexo**\n",
        "\n",
        "El gráfico circular muestra la distribución de hombres y mujeres en la base de datos. En este caso, la distribución es bastante equilibrada, con un porcentaje cercano al 50% para cada género. Esto indica que la muestra está bien balanceada en términos de género, lo que es importante para asegurar que los análisis no estén sesgados hacia un género en particular.\n",
        "\n",
        "Aspectos a tener en cuenta:\n",
        "\n",
        "La distribución equitativa de género en la base de datos es un aspecto positivo, ya que permite realizar análisis más generalizables. Sin embargo, es importante considerar que en otros contextos o poblaciones, la distribución podría no ser tan equilibrada, lo que podría afectar los resultados de los análisis."
      ],
      "metadata": {
        "id": "IFUQRbCdcJO7"
      }
    },
    {
      "cell_type": "code",
      "source": [
        "# Crear gráfico circular para distribución por sexo\n",
        "gender_counts = df[\"Sexo\"].value_counts()\n",
        "plt.figure(figsize=(6, 6))\n",
        "plt.pie(gender_counts, labels=gender_counts.index, autopct=\"%1.1f%%\", colors=[\"blue\", \"pink\"], startangle=90)\n",
        "plt.title(\"Distribución de Sexo en la Base de Datos\")\n",
        "\n",
        "# Guardar el gráfico\n",
        "pie_chart_path = \"/content/gender_distribution.png\"\n",
        "plt.savefig(pie_chart_path)\n",
        "plt.show()\n"
      ],
      "metadata": {
        "colab": {
          "base_uri": "https://localhost:8080/",
          "height": 521
        },
        "id": "GGf14zwmb8Lf",
        "outputId": "8fea57bf-e752-4b26-922f-f52dc7a6e7b8"
      },
      "execution_count": null,
      "outputs": [
        {
          "output_type": "display_data",
          "data": {
            "text/plain": [
              "<Figure size 600x600 with 1 Axes>"
            ],
            "image/png": "[encoded data removed]"
          },
          "metadata": {}
        }
      ]
    },
    {
      "cell_type": "markdown",
      "source": [
        "## **Gráfico de Barras 10 primeras personas y sus edades**\n",
        "\n",
        "El gráfico de barras horizontal muestra la edad de las 10 primeras personas en la base de datos. Las edades varían entre 40 y 62 años, con una distribución relativamente uniforme. No se observa una concentración particular en ningún rango de edad, lo que indica que las edades están distribuidas de manera bastante equitativa en esta submuestra.\n",
        "\n",
        "Aspectos a tener en cuenta:\n",
        "\n",
        "Este gráfico confirma que la muestra inicial es diversa en términos de edad, lo que es beneficioso para los análisis posteriores. La ausencia de una concentración en un rango de edad específico sugiere que los resultados podrían ser representativos de una población más amplia."
      ],
      "metadata": {
        "id": "fVi98DHTduf8"
      }
    },
    {
      "cell_type": "code",
      "source": [
        "# Seleccionar las primeras 10 personas y sus edades\n",
        "top_10_ages = df.head(10)[[\"Persona\", \"Edad(Años)\"]]\n",
        "\n",
        "# Crear gráfico de barras horizontal\n",
        "plt.figure(figsize=(8, 5))\n",
        "sns.barplot(y=top_10_ages[\"Persona\"], x=top_10_ages[\"Edad(Años)\"], orient=\"h\", palette=\"viridis\")\n",
        "plt.xlabel(\"Edad (Años)\")\n",
        "plt.ylabel(\"Persona\")\n",
        "plt.title(\"Edad de las 10 Primeras Personas\")\n",
        "\n",
        "# Guardar el gráfico\n",
        "bar_chart_path = \"/content/top_10_ages.png\"\n",
        "plt.savefig(bar_chart_path)\n",
        "plt.show()\n"
      ],
      "metadata": {
        "colab": {
          "base_uri": "https://localhost:8080/",
          "height": 583
        },
        "id": "oKjqHWn6dwk3",
        "outputId": "99105d78-4212-49f9-e025-1f258920d006"
      },
      "execution_count": null,
      "outputs": [
        {
          "output_type": "stream",
          "name": "stderr",
          "text": [
            "<ipython-input-70-4e0bd12ed6a7>:6: FutureWarning: \n",
            "\n",
            "Passing `palette` without assigning `hue` is deprecated and will be removed in v0.14.0. Assign the `y` variable to `hue` and set `legend=False` for the same effect.\n",
            "\n",
            "  sns.barplot(y=top_10_ages[\"Persona\"], x=top_10_ages[\"Edad(Años)\"], orient=\"h\", palette=\"viridis\")\n"
          ]
        },
        {
          "output_type": "display_data",
          "data": {
            "text/plain": [
              "<Figure size 800x500 with 1 Axes>"
            ],
            "image/png": "[encoded data removed]"
          },
          "metadata": {}
        }
      ]
    },
    {
      "cell_type": "markdown",
      "source": [
        "## **Conclusión**\n",
        "\n",
        "El análisis de los datos en el dataset revela que no hay una correlación significativa entre la edad y el peso, ni entre la edad y la altura. Sin embargo, se observa una ligera correlación positiva entre el peso y la altura. La distribución de género es equilibrada, y no se observan tendencias claras en la relación entre la edad y el peso. Finalmente, la distribución de edades en la muestra inicial es diversa, lo que sugiere que los resultados podrían ser generalizables a una población más amplia."
      ],
      "metadata": {
        "id": "p5yL9b1PgfhU"
      }
    }
  ]
}